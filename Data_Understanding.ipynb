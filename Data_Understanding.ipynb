{
 "cells": [
  {
   "cell_type": "code",
   "execution_count": 1,
   "metadata": {},
   "outputs": [],
   "source": [
    "import numpy as np\n",
    "import pandas as pd\n",
    "import matplotlib.pyplot as plt\n",
    "import seaborn as sns"
   ]
  },
  {
   "cell_type": "code",
   "execution_count": 3,
   "metadata": {},
   "outputs": [
    {
     "data": {
      "text/html": [
       "<div>\n",
       "<style scoped>\n",
       "    .dataframe tbody tr th:only-of-type {\n",
       "        vertical-align: middle;\n",
       "    }\n",
       "\n",
       "    .dataframe tbody tr th {\n",
       "        vertical-align: top;\n",
       "    }\n",
       "\n",
       "    .dataframe thead th {\n",
       "        text-align: right;\n",
       "    }\n",
       "</style>\n",
       "<table border=\"1\" class=\"dataframe\">\n",
       "  <thead>\n",
       "    <tr style=\"text-align: right;\">\n",
       "      <th></th>\n",
       "      <th>0</th>\n",
       "      <th>1</th>\n",
       "      <th>2</th>\n",
       "      <th>3</th>\n",
       "      <th>4</th>\n",
       "      <th>5</th>\n",
       "    </tr>\n",
       "  </thead>\n",
       "  <tbody>\n",
       "    <tr>\n",
       "      <th>0</th>\n",
       "      <td>cpu_openvino</td>\n",
       "      <td>1</td>\n",
       "      <td>53.82</td>\n",
       "      <td>18.58</td>\n",
       "      <td>vit_b_16</td>\n",
       "      <td>FP16</td>\n",
       "    </tr>\n",
       "    <tr>\n",
       "      <th>1</th>\n",
       "      <td>gpu_openvino</td>\n",
       "      <td>1</td>\n",
       "      <td>282.68</td>\n",
       "      <td>3.54</td>\n",
       "      <td>vit_b_16</td>\n",
       "      <td>FP16</td>\n",
       "    </tr>\n",
       "    <tr>\n",
       "      <th>2</th>\n",
       "      <td>cpu_openvino</td>\n",
       "      <td>1</td>\n",
       "      <td>37.76</td>\n",
       "      <td>26.48</td>\n",
       "      <td>vgg11</td>\n",
       "      <td>FP16</td>\n",
       "    </tr>\n",
       "    <tr>\n",
       "      <th>3</th>\n",
       "      <td>gpu_openvino</td>\n",
       "      <td>1</td>\n",
       "      <td>15.92</td>\n",
       "      <td>62.83</td>\n",
       "      <td>vgg11</td>\n",
       "      <td>FP16</td>\n",
       "    </tr>\n",
       "    <tr>\n",
       "      <th>4</th>\n",
       "      <td>cpu_openvino</td>\n",
       "      <td>1</td>\n",
       "      <td>18.11</td>\n",
       "      <td>55.20</td>\n",
       "      <td>resnet50</td>\n",
       "      <td>FP16</td>\n",
       "    </tr>\n",
       "    <tr>\n",
       "      <th>5</th>\n",
       "      <td>gpu_openvino</td>\n",
       "      <td>1</td>\n",
       "      <td>13.59</td>\n",
       "      <td>73.56</td>\n",
       "      <td>resnet50</td>\n",
       "      <td>FP16</td>\n",
       "    </tr>\n",
       "    <tr>\n",
       "      <th>6</th>\n",
       "      <td>cpu_openvino</td>\n",
       "      <td>2</td>\n",
       "      <td>152.57</td>\n",
       "      <td>13.11</td>\n",
       "      <td>vit_b_16</td>\n",
       "      <td>FP16</td>\n",
       "    </tr>\n",
       "    <tr>\n",
       "      <th>7</th>\n",
       "      <td>gpu_openvino</td>\n",
       "      <td>2</td>\n",
       "      <td>307.09</td>\n",
       "      <td>6.51</td>\n",
       "      <td>vit_b_16</td>\n",
       "      <td>FP16</td>\n",
       "    </tr>\n",
       "    <tr>\n",
       "      <th>8</th>\n",
       "      <td>cpu_openvino</td>\n",
       "      <td>2</td>\n",
       "      <td>69.22</td>\n",
       "      <td>28.89</td>\n",
       "      <td>vgg11</td>\n",
       "      <td>FP16</td>\n",
       "    </tr>\n",
       "    <tr>\n",
       "      <th>9</th>\n",
       "      <td>gpu_openvino</td>\n",
       "      <td>2</td>\n",
       "      <td>70.36</td>\n",
       "      <td>28.43</td>\n",
       "      <td>vgg11</td>\n",
       "      <td>FP16</td>\n",
       "    </tr>\n",
       "  </tbody>\n",
       "</table>\n",
       "</div>"
      ],
      "text/plain": [
       "              0  1       2      3         4     5\n",
       "0  cpu_openvino  1   53.82  18.58  vit_b_16  FP16\n",
       "1  gpu_openvino  1  282.68   3.54  vit_b_16  FP16\n",
       "2  cpu_openvino  1   37.76  26.48     vgg11  FP16\n",
       "3  gpu_openvino  1   15.92  62.83     vgg11  FP16\n",
       "4  cpu_openvino  1   18.11  55.20  resnet50  FP16\n",
       "5  gpu_openvino  1   13.59  73.56  resnet50  FP16\n",
       "6  cpu_openvino  2  152.57  13.11  vit_b_16  FP16\n",
       "7  gpu_openvino  2  307.09   6.51  vit_b_16  FP16\n",
       "8  cpu_openvino  2   69.22  28.89     vgg11  FP16\n",
       "9  gpu_openvino  2   70.36  28.43     vgg11  FP16"
      ]
     },
     "execution_count": 3,
     "metadata": {},
     "output_type": "execute_result"
    }
   ],
   "source": [
    "data = pd.read_csv('i7.csv', header = None, sep = ':')\n",
    "data.head(10)"
   ]
  },
  {
   "cell_type": "code",
   "execution_count": 4,
   "metadata": {},
   "outputs": [],
   "source": [
    "data.to_csv(\"i7_cleaned.csv\", index = False)"
   ]
  },
  {
   "cell_type": "code",
   "execution_count": 5,
   "metadata": {},
   "outputs": [
    {
     "data": {
      "text/plain": [
       "vit_b_16    36\n",
       "vgg11       36\n",
       "resnet50    36\n",
       "Name: 4, dtype: int64"
      ]
     },
     "execution_count": 5,
     "metadata": {},
     "output_type": "execute_result"
    }
   ],
   "source": [
    "data[4].value_counts()"
   ]
  },
  {
   "cell_type": "code",
   "execution_count": 6,
   "metadata": {},
   "outputs": [
    {
     "data": {
      "text/plain": [
       "cpu_openvino    54\n",
       "gpu_openvino    54\n",
       "Name: 0, dtype: int64"
      ]
     },
     "execution_count": 6,
     "metadata": {},
     "output_type": "execute_result"
    }
   ],
   "source": [
    "data[0].value_counts()"
   ]
  },
  {
   "cell_type": "code",
   "execution_count": 21,
   "metadata": {},
   "outputs": [],
   "source": [
    "vit_b_16_data = data[data[4] == 'vit_b_16']"
   ]
  },
  {
   "cell_type": "code",
   "execution_count": 22,
   "metadata": {},
   "outputs": [],
   "source": [
    "precision_data = vit_b_16_data[vit_b_16_data[5] == 'FP16']\n",
    "device_data = precision_data[precision_data[0] == 'gpu_openvino']"
   ]
  },
  {
   "cell_type": "code",
   "execution_count": 9,
   "metadata": {},
   "outputs": [
    {
     "data": {
      "text/plain": [
       "4       1\n",
       "10      2\n",
       "16      4\n",
       "22      6\n",
       "28      8\n",
       "34     10\n",
       "40     20\n",
       "46     50\n",
       "52    100\n",
       "Name: 1, dtype: int64"
      ]
     },
     "execution_count": 9,
     "metadata": {},
     "output_type": "execute_result"
    }
   ],
   "source": [
    "p = precision_data[precision_data[0] == 'cpu_openvino'][1]\n",
    "p.head(10)"
   ]
  },
  {
   "cell_type": "code",
   "execution_count": 10,
   "metadata": {},
   "outputs": [
    {
     "data": {
      "text/html": [
       "<div>\n",
       "<style scoped>\n",
       "    .dataframe tbody tr th:only-of-type {\n",
       "        vertical-align: middle;\n",
       "    }\n",
       "\n",
       "    .dataframe tbody tr th {\n",
       "        vertical-align: top;\n",
       "    }\n",
       "\n",
       "    .dataframe thead th {\n",
       "        text-align: right;\n",
       "    }\n",
       "</style>\n",
       "<table border=\"1\" class=\"dataframe\">\n",
       "  <thead>\n",
       "    <tr style=\"text-align: right;\">\n",
       "      <th></th>\n",
       "      <th>0</th>\n",
       "      <th>1</th>\n",
       "      <th>2</th>\n",
       "      <th>3</th>\n",
       "      <th>4</th>\n",
       "      <th>5</th>\n",
       "    </tr>\n",
       "  </thead>\n",
       "  <tbody>\n",
       "    <tr>\n",
       "      <th>5</th>\n",
       "      <td>gpu_openvino</td>\n",
       "      <td>1</td>\n",
       "      <td>13.59</td>\n",
       "      <td>73.56</td>\n",
       "      <td>resnet50</td>\n",
       "      <td>FP16</td>\n",
       "    </tr>\n",
       "    <tr>\n",
       "      <th>11</th>\n",
       "      <td>gpu_openvino</td>\n",
       "      <td>2</td>\n",
       "      <td>23.99</td>\n",
       "      <td>83.38</td>\n",
       "      <td>resnet50</td>\n",
       "      <td>FP16</td>\n",
       "    </tr>\n",
       "    <tr>\n",
       "      <th>17</th>\n",
       "      <td>gpu_openvino</td>\n",
       "      <td>4</td>\n",
       "      <td>42.08</td>\n",
       "      <td>95.06</td>\n",
       "      <td>resnet50</td>\n",
       "      <td>FP16</td>\n",
       "    </tr>\n",
       "    <tr>\n",
       "      <th>23</th>\n",
       "      <td>gpu_openvino</td>\n",
       "      <td>6</td>\n",
       "      <td>62.58</td>\n",
       "      <td>95.88</td>\n",
       "      <td>resnet50</td>\n",
       "      <td>FP16</td>\n",
       "    </tr>\n",
       "    <tr>\n",
       "      <th>29</th>\n",
       "      <td>gpu_openvino</td>\n",
       "      <td>8</td>\n",
       "      <td>80.64</td>\n",
       "      <td>99.21</td>\n",
       "      <td>resnet50</td>\n",
       "      <td>FP16</td>\n",
       "    </tr>\n",
       "    <tr>\n",
       "      <th>35</th>\n",
       "      <td>gpu_openvino</td>\n",
       "      <td>10</td>\n",
       "      <td>112.08</td>\n",
       "      <td>89.22</td>\n",
       "      <td>resnet50</td>\n",
       "      <td>FP16</td>\n",
       "    </tr>\n",
       "    <tr>\n",
       "      <th>41</th>\n",
       "      <td>gpu_openvino</td>\n",
       "      <td>20</td>\n",
       "      <td>199.58</td>\n",
       "      <td>100.21</td>\n",
       "      <td>resnet50</td>\n",
       "      <td>FP16</td>\n",
       "    </tr>\n",
       "    <tr>\n",
       "      <th>47</th>\n",
       "      <td>gpu_openvino</td>\n",
       "      <td>50</td>\n",
       "      <td>490.92</td>\n",
       "      <td>101.85</td>\n",
       "      <td>resnet50</td>\n",
       "      <td>FP16</td>\n",
       "    </tr>\n",
       "    <tr>\n",
       "      <th>53</th>\n",
       "      <td>gpu_openvino</td>\n",
       "      <td>100</td>\n",
       "      <td>980.67</td>\n",
       "      <td>101.97</td>\n",
       "      <td>resnet50</td>\n",
       "      <td>FP16</td>\n",
       "    </tr>\n",
       "  </tbody>\n",
       "</table>\n",
       "</div>"
      ],
      "text/plain": [
       "               0    1       2       3         4     5\n",
       "5   gpu_openvino    1   13.59   73.56  resnet50  FP16\n",
       "11  gpu_openvino    2   23.99   83.38  resnet50  FP16\n",
       "17  gpu_openvino    4   42.08   95.06  resnet50  FP16\n",
       "23  gpu_openvino    6   62.58   95.88  resnet50  FP16\n",
       "29  gpu_openvino    8   80.64   99.21  resnet50  FP16\n",
       "35  gpu_openvino   10  112.08   89.22  resnet50  FP16\n",
       "41  gpu_openvino   20  199.58  100.21  resnet50  FP16\n",
       "47  gpu_openvino   50  490.92  101.85  resnet50  FP16\n",
       "53  gpu_openvino  100  980.67  101.97  resnet50  FP16"
      ]
     },
     "execution_count": 10,
     "metadata": {},
     "output_type": "execute_result"
    }
   ],
   "source": [
    "device_data.head(10)"
   ]
  },
  {
   "cell_type": "code",
   "execution_count": 23,
   "metadata": {},
   "outputs": [
    {
     "data": {
      "image/png": "[encoded data removed]",
      "text/plain": [
       "<Figure size 576x576 with 1 Axes>"
      ]
     },
     "metadata": {
      "needs_background": "light"
     },
     "output_type": "display_data"
    }
   ],
   "source": [
    "plt.figure(figsize = (8,8))\n",
    "sns.barplot(x = precision_data[precision_data[0] == 'gpu_openvino'][1], y = precision_data[precision_data[0] == 'gpu_openvino'][2])\n",
    "plt.title(\"Batch Size and Latency for GPU\")\n",
    "plt.grid(alpha = 0.25)\n",
    "plt.xlabel(\"Batch Size\")\n",
    "plt.ylabel(\"Latency\")\n",
    "plt.savefig(\"batch_size_latency_gpu.svg\")\n",
    "plt.show()"
   ]
  },
  {
   "cell_type": "code",
   "execution_count": 24,
   "metadata": {},
   "outputs": [
    {
     "data": {
      "image/png": "[encoded data removed]",
      "text/plain": [
       "<Figure size 576x576 with 1 Axes>"
      ]
     },
     "metadata": {
      "needs_background": "light"
     },
     "output_type": "display_data"
    }
   ],
   "source": [
    "plt.figure(figsize = (8,8))\n",
    "sns.barplot(x = precision_data[precision_data[0] == 'cpu_openvino'][1], y = precision_data[precision_data[0] == 'cpu_openvino'][2])\n",
    "plt.title(\"Batch Size and Latency for CPU\")\n",
    "plt.grid(alpha = 0.25)\n",
    "plt.xlabel(\"Batch Size\")\n",
    "plt.ylabel(\"Latency\")\n",
    "plt.savefig(\"batch_size_latency_cpu.svg\")\n",
    "plt.show()"
   ]
  },
  {
   "cell_type": "code",
   "execution_count": 25,
   "metadata": {},
   "outputs": [
    {
     "data": {
      "image/png": "[encoded data removed]",
      "text/plain": [
       "<Figure size 576x576 with 1 Axes>"
      ]
     },
     "metadata": {
      "needs_background": "light"
     },
     "output_type": "display_data"
    }
   ],
   "source": [
    "plt.figure(figsize=(8,8))\n",
    "sns.barplot(x = precision_data[precision_data[0] == 'gpu_openvino'][1], y = precision_data[precision_data[0] == 'gpu_openvino'][3])\n",
    "plt.title(\"Batch Size and Throughput for GPU\")\n",
    "plt.grid(alpha = 0.25)\n",
    "plt.xlabel(\"Batch Size\")\n",
    "plt.ylabel(\"Throughput\")\n",
    "plt.savefig(\"batch_size_throughput_gpu.svg\")\n",
    "plt.show()"
   ]
  },
  {
   "cell_type": "code",
   "execution_count": 26,
   "metadata": {},
   "outputs": [
    {
     "data": {
      "image/png": "[encoded data removed]",
      "text/plain": [
       "<Figure size 576x576 with 1 Axes>"
      ]
     },
     "metadata": {
      "needs_background": "light"
     },
     "output_type": "display_data"
    }
   ],
   "source": [
    "plt.figure(figsize=(8,8))\n",
    "sns.barplot(x = precision_data[precision_data[0] == 'cpu_openvino'][1], y = precision_data[precision_data[0] == 'cpu_openvino'][3])\n",
    "plt.title(\"Batch Size and Throughput for CPU\")\n",
    "plt.grid(alpha = 0.25)\n",
    "plt.xlabel(\"Batch Size\")\n",
    "plt.ylabel(\"Throughput\")\n",
    "plt.savefig(\"batch_size_throughput_cpu.svg\")\n",
    "plt.show()"
   ]
  },
  {
   "cell_type": "code",
   "execution_count": null,
   "metadata": {},
   "outputs": [],
   "source": []
  },
  {
   "cell_type": "code",
   "execution_count": null,
   "metadata": {},
   "outputs": [],
   "source": []
  }
 ],
 "metadata": {
  "kernelspec": {
   "display_name": "Python 3",
   "language": "python",
   "name": "python3"
  },
  "language_info": {
   "codemirror_mode": {
    "name": "ipython",
    "version": 3
   },
   "file_extension": ".py",
   "mimetype": "text/x-python",
   "name": "python",
   "nbconvert_exporter": "python",
   "pygments_lexer": "ipython3",
   "version": "3.7.3"
  }
 },
 "nbformat": 4,
 "nbformat_minor": 2
}
