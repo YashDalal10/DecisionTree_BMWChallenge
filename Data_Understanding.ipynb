{
 "cells": [
  {
   "cell_type": "code",
   "execution_count": 3,
   "metadata": {},
   "outputs": [],
   "source": [
    "import numpy as np\n",
    "import pandas as pd\n",
    "import matplotlib.pyplot as plt\n",
    "import seaborn as sns"
   ]
  },
  {
   "cell_type": "code",
   "execution_count": 51,
   "metadata": {},
   "outputs": [
    {
     "data": {
      "text/html": [
       "<div>\n",
       "<style scoped>\n",
       "    .dataframe tbody tr th:only-of-type {\n",
       "        vertical-align: middle;\n",
       "    }\n",
       "\n",
       "    .dataframe tbody tr th {\n",
       "        vertical-align: top;\n",
       "    }\n",
       "\n",
       "    .dataframe thead th {\n",
       "        text-align: right;\n",
       "    }\n",
       "</style>\n",
       "<table border=\"1\" class=\"dataframe\">\n",
       "  <thead>\n",
       "    <tr style=\"text-align: right;\">\n",
       "      <th></th>\n",
       "      <th>0</th>\n",
       "      <th>1</th>\n",
       "      <th>2</th>\n",
       "      <th>3</th>\n",
       "      <th>4</th>\n",
       "      <th>5</th>\n",
       "    </tr>\n",
       "  </thead>\n",
       "  <tbody>\n",
       "    <tr>\n",
       "      <th>0</th>\n",
       "      <td>cpu_openvino</td>\n",
       "      <td>1</td>\n",
       "      <td>147.96</td>\n",
       "      <td>6.76</td>\n",
       "      <td>vit_b_16</td>\n",
       "      <td>FP16</td>\n",
       "    </tr>\n",
       "    <tr>\n",
       "      <th>1</th>\n",
       "      <td>gpu_openvino</td>\n",
       "      <td>1</td>\n",
       "      <td>247.71</td>\n",
       "      <td>4.04</td>\n",
       "      <td>vit_b_16</td>\n",
       "      <td>FP16</td>\n",
       "    </tr>\n",
       "    <tr>\n",
       "      <th>2</th>\n",
       "      <td>cpu_openvino</td>\n",
       "      <td>1</td>\n",
       "      <td>79.52</td>\n",
       "      <td>12.58</td>\n",
       "      <td>vgg11</td>\n",
       "      <td>FP16</td>\n",
       "    </tr>\n",
       "    <tr>\n",
       "      <th>3</th>\n",
       "      <td>gpu_openvino</td>\n",
       "      <td>1</td>\n",
       "      <td>18.24</td>\n",
       "      <td>54.81</td>\n",
       "      <td>vgg11</td>\n",
       "      <td>FP16</td>\n",
       "    </tr>\n",
       "    <tr>\n",
       "      <th>4</th>\n",
       "      <td>cpu_openvino</td>\n",
       "      <td>1</td>\n",
       "      <td>37.36</td>\n",
       "      <td>26.77</td>\n",
       "      <td>resnet50</td>\n",
       "      <td>FP16</td>\n",
       "    </tr>\n",
       "    <tr>\n",
       "      <th>5</th>\n",
       "      <td>gpu_openvino</td>\n",
       "      <td>1</td>\n",
       "      <td>17.56</td>\n",
       "      <td>56.94</td>\n",
       "      <td>resnet50</td>\n",
       "      <td>FP16</td>\n",
       "    </tr>\n",
       "    <tr>\n",
       "      <th>6</th>\n",
       "      <td>cpu_openvino</td>\n",
       "      <td>2</td>\n",
       "      <td>364.61</td>\n",
       "      <td>5.49</td>\n",
       "      <td>vit_b_16</td>\n",
       "      <td>FP16</td>\n",
       "    </tr>\n",
       "    <tr>\n",
       "      <th>7</th>\n",
       "      <td>gpu_openvino</td>\n",
       "      <td>2</td>\n",
       "      <td>275.11</td>\n",
       "      <td>7.27</td>\n",
       "      <td>vit_b_16</td>\n",
       "      <td>FP16</td>\n",
       "    </tr>\n",
       "    <tr>\n",
       "      <th>8</th>\n",
       "      <td>cpu_openvino</td>\n",
       "      <td>2</td>\n",
       "      <td>127.32</td>\n",
       "      <td>15.71</td>\n",
       "      <td>vgg11</td>\n",
       "      <td>FP16</td>\n",
       "    </tr>\n",
       "    <tr>\n",
       "      <th>9</th>\n",
       "      <td>gpu_openvino</td>\n",
       "      <td>2</td>\n",
       "      <td>79.49</td>\n",
       "      <td>25.16</td>\n",
       "      <td>vgg11</td>\n",
       "      <td>FP16</td>\n",
       "    </tr>\n",
       "  </tbody>\n",
       "</table>\n",
       "</div>"
      ],
      "text/plain": [
       "              0  1       2      3         4     5\n",
       "0  cpu_openvino  1  147.96   6.76  vit_b_16  FP16\n",
       "1  gpu_openvino  1  247.71   4.04  vit_b_16  FP16\n",
       "2  cpu_openvino  1   79.52  12.58     vgg11  FP16\n",
       "3  gpu_openvino  1   18.24  54.81     vgg11  FP16\n",
       "4  cpu_openvino  1   37.36  26.77  resnet50  FP16\n",
       "5  gpu_openvino  1   17.56  56.94  resnet50  FP16\n",
       "6  cpu_openvino  2  364.61   5.49  vit_b_16  FP16\n",
       "7  gpu_openvino  2  275.11   7.27  vit_b_16  FP16\n",
       "8  cpu_openvino  2  127.32  15.71     vgg11  FP16\n",
       "9  gpu_openvino  2   79.49  25.16     vgg11  FP16"
      ]
     },
     "execution_count": 51,
     "metadata": {},
     "output_type": "execute_result"
    }
   ],
   "source": [
    "data = pd.read_csv('result_0505-194108.csv', header = None, sep = ':')\n",
    "data.head(10)"
   ]
  },
  {
   "cell_type": "code",
   "execution_count": 52,
   "metadata": {},
   "outputs": [],
   "source": [
    "data.to_csv(\"result_cleaned.csv\", index = False)"
   ]
  },
  {
   "cell_type": "code",
   "execution_count": 53,
   "metadata": {},
   "outputs": [
    {
     "data": {
      "text/plain": [
       "vit_b_16    32\n",
       "vgg11       32\n",
       "resnet50    32\n",
       "Name: 4, dtype: int64"
      ]
     },
     "execution_count": 53,
     "metadata": {},
     "output_type": "execute_result"
    }
   ],
   "source": [
    "data[4].value_counts()"
   ]
  },
  {
   "cell_type": "code",
   "execution_count": 54,
   "metadata": {},
   "outputs": [
    {
     "data": {
      "text/plain": [
       "cpu_openvino    48\n",
       "gpu_openvino    48\n",
       "Name: 0, dtype: int64"
      ]
     },
     "execution_count": 54,
     "metadata": {},
     "output_type": "execute_result"
    }
   ],
   "source": [
    "data[0].value_counts()"
   ]
  },
  {
   "cell_type": "code",
   "execution_count": 70,
   "metadata": {},
   "outputs": [],
   "source": [
    "resnet50_data = data[data[4] == 'resnet50']"
   ]
  },
  {
   "cell_type": "code",
   "execution_count": 71,
   "metadata": {},
   "outputs": [],
   "source": [
    "precision_data = resnet50_data[resnet50_data[5] == 'FP16']\n",
    "device_data = precision_data[precision_data[0] == 'gpu_openvino']"
   ]
  },
  {
   "cell_type": "code",
   "execution_count": 57,
   "metadata": {},
   "outputs": [
    {
     "data": {
      "text/plain": [
       "0      1\n",
       "6      2\n",
       "12     4\n",
       "18     6\n",
       "24    10\n",
       "30    20\n",
       "36    30\n",
       "42    50\n",
       "Name: 1, dtype: int64"
      ]
     },
     "execution_count": 57,
     "metadata": {},
     "output_type": "execute_result"
    }
   ],
   "source": [
    "p = precision_data[precision_data[0] == 'cpu_openvino'][1]\n",
    "p.head(10)"
   ]
  },
  {
   "cell_type": "code",
   "execution_count": 58,
   "metadata": {},
   "outputs": [
    {
     "data": {
      "text/html": [
       "<div>\n",
       "<style scoped>\n",
       "    .dataframe tbody tr th:only-of-type {\n",
       "        vertical-align: middle;\n",
       "    }\n",
       "\n",
       "    .dataframe tbody tr th {\n",
       "        vertical-align: top;\n",
       "    }\n",
       "\n",
       "    .dataframe thead th {\n",
       "        text-align: right;\n",
       "    }\n",
       "</style>\n",
       "<table border=\"1\" class=\"dataframe\">\n",
       "  <thead>\n",
       "    <tr style=\"text-align: right;\">\n",
       "      <th></th>\n",
       "      <th>0</th>\n",
       "      <th>1</th>\n",
       "      <th>2</th>\n",
       "      <th>3</th>\n",
       "      <th>4</th>\n",
       "      <th>5</th>\n",
       "    </tr>\n",
       "  </thead>\n",
       "  <tbody>\n",
       "    <tr>\n",
       "      <th>1</th>\n",
       "      <td>gpu_openvino</td>\n",
       "      <td>1</td>\n",
       "      <td>247.71</td>\n",
       "      <td>4.04</td>\n",
       "      <td>vit_b_16</td>\n",
       "      <td>FP16</td>\n",
       "    </tr>\n",
       "    <tr>\n",
       "      <th>7</th>\n",
       "      <td>gpu_openvino</td>\n",
       "      <td>2</td>\n",
       "      <td>275.11</td>\n",
       "      <td>7.27</td>\n",
       "      <td>vit_b_16</td>\n",
       "      <td>FP16</td>\n",
       "    </tr>\n",
       "    <tr>\n",
       "      <th>13</th>\n",
       "      <td>gpu_openvino</td>\n",
       "      <td>4</td>\n",
       "      <td>334.10</td>\n",
       "      <td>11.97</td>\n",
       "      <td>vit_b_16</td>\n",
       "      <td>FP16</td>\n",
       "    </tr>\n",
       "    <tr>\n",
       "      <th>19</th>\n",
       "      <td>gpu_openvino</td>\n",
       "      <td>6</td>\n",
       "      <td>395.94</td>\n",
       "      <td>15.15</td>\n",
       "      <td>vit_b_16</td>\n",
       "      <td>FP16</td>\n",
       "    </tr>\n",
       "    <tr>\n",
       "      <th>25</th>\n",
       "      <td>gpu_openvino</td>\n",
       "      <td>10</td>\n",
       "      <td>725.98</td>\n",
       "      <td>13.77</td>\n",
       "      <td>vit_b_16</td>\n",
       "      <td>FP16</td>\n",
       "    </tr>\n",
       "    <tr>\n",
       "      <th>31</th>\n",
       "      <td>gpu_openvino</td>\n",
       "      <td>20</td>\n",
       "      <td>1360.87</td>\n",
       "      <td>14.70</td>\n",
       "      <td>vit_b_16</td>\n",
       "      <td>FP16</td>\n",
       "    </tr>\n",
       "    <tr>\n",
       "      <th>37</th>\n",
       "      <td>gpu_openvino</td>\n",
       "      <td>30</td>\n",
       "      <td>1791.91</td>\n",
       "      <td>16.74</td>\n",
       "      <td>vit_b_16</td>\n",
       "      <td>FP16</td>\n",
       "    </tr>\n",
       "    <tr>\n",
       "      <th>43</th>\n",
       "      <td>gpu_openvino</td>\n",
       "      <td>50</td>\n",
       "      <td>3158.62</td>\n",
       "      <td>15.83</td>\n",
       "      <td>vit_b_16</td>\n",
       "      <td>FP16</td>\n",
       "    </tr>\n",
       "  </tbody>\n",
       "</table>\n",
       "</div>"
      ],
      "text/plain": [
       "               0   1        2      3         4     5\n",
       "1   gpu_openvino   1   247.71   4.04  vit_b_16  FP16\n",
       "7   gpu_openvino   2   275.11   7.27  vit_b_16  FP16\n",
       "13  gpu_openvino   4   334.10  11.97  vit_b_16  FP16\n",
       "19  gpu_openvino   6   395.94  15.15  vit_b_16  FP16\n",
       "25  gpu_openvino  10   725.98  13.77  vit_b_16  FP16\n",
       "31  gpu_openvino  20  1360.87  14.70  vit_b_16  FP16\n",
       "37  gpu_openvino  30  1791.91  16.74  vit_b_16  FP16\n",
       "43  gpu_openvino  50  3158.62  15.83  vit_b_16  FP16"
      ]
     },
     "execution_count": 58,
     "metadata": {},
     "output_type": "execute_result"
    }
   ],
   "source": [
    "device_data.head(10)"
   ]
  },
  {
   "cell_type": "code",
   "execution_count": 72,
   "metadata": {},
   "outputs": [
    {
     "data": {
      "image/png": "[encoded data removed]",
      "text/plain": [
       "<Figure size 576x576 with 1 Axes>"
      ]
     },
     "metadata": {
      "needs_background": "light"
     },
     "output_type": "display_data"
    }
   ],
   "source": [
    "plt.figure(figsize = (8,8))\n",
    "sns.barplot(x = precision_data[precision_data[0] == 'gpu_openvino'][1], y = precision_data[precision_data[0] == 'gpu_openvino'][2])\n",
    "plt.title(\"Batch Size and Latency for GPU\")\n",
    "plt.grid(alpha = 0.25)\n",
    "plt.xlabel(\"Batch Size\")\n",
    "plt.ylabel(\"Latency\")\n",
    "plt.savefig(\"batch_size_latency_gpu.svg\")\n",
    "plt.show()"
   ]
  },
  {
   "cell_type": "code",
   "execution_count": 73,
   "metadata": {},
   "outputs": [
    {
     "data": {
      "image/png": "[encoded data removed]",
      "text/plain": [
       "<Figure size 576x576 with 1 Axes>"
      ]
     },
     "metadata": {
      "needs_background": "light"
     },
     "output_type": "display_data"
    }
   ],
   "source": [
    "plt.figure(figsize = (8,8))\n",
    "sns.barplot(x = precision_data[precision_data[0] == 'cpu_openvino'][1], y = precision_data[precision_data[0] == 'cpu_openvino'][2])\n",
    "plt.title(\"Batch Size and Latency for CPU\")\n",
    "plt.grid(alpha = 0.25)\n",
    "plt.xlabel(\"Batch Size\")\n",
    "plt.ylabel(\"Latency\")\n",
    "plt.savefig(\"batch_size_latency_cpu.svg\")\n",
    "plt.show()"
   ]
  },
  {
   "cell_type": "code",
   "execution_count": 74,
   "metadata": {},
   "outputs": [
    {
     "data": {
      "image/png": "[encoded data removed]",
      "text/plain": [
       "<Figure size 576x576 with 1 Axes>"
      ]
     },
     "metadata": {
      "needs_background": "light"
     },
     "output_type": "display_data"
    }
   ],
   "source": [
    "plt.figure(figsize=(8,8))\n",
    "sns.barplot(x = precision_data[precision_data[0] == 'gpu_openvino'][1], y = precision_data[precision_data[0] == 'gpu_openvino'][3])\n",
    "plt.title(\"Batch Size and Throughput for GPU\")\n",
    "plt.grid(alpha = 0.25)\n",
    "plt.xlabel(\"Batch Size\")\n",
    "plt.ylabel(\"Throughput\")\n",
    "plt.savefig(\"batch_size_throughput_gpu.svg\")\n",
    "plt.show()"
   ]
  },
  {
   "cell_type": "code",
   "execution_count": 75,
   "metadata": {},
   "outputs": [
    {
     "data": {
      "image/png": "[encoded data removed]",
      "text/plain": [
       "<Figure size 576x576 with 1 Axes>"
      ]
     },
     "metadata": {
      "needs_background": "light"
     },
     "output_type": "display_data"
    }
   ],
   "source": [
    "plt.figure(figsize=(8,8))\n",
    "sns.barplot(x = precision_data[precision_data[0] == 'cpu_openvino'][1], y = precision_data[precision_data[0] == 'cpu_openvino'][3])\n",
    "plt.title(\"Batch Size and Throughput for CPU\")\n",
    "plt.grid(alpha = 0.25)\n",
    "plt.xlabel(\"Batch Size\")\n",
    "plt.ylabel(\"Throughput\")\n",
    "plt.savefig(\"batch_size_throughput_cpu.svg\")\n",
    "plt.show()"
   ]
  },
  {
   "cell_type": "code",
   "execution_count": null,
   "metadata": {},
   "outputs": [],
   "source": []
  },
  {
   "cell_type": "code",
   "execution_count": null,
   "metadata": {},
   "outputs": [],
   "source": []
  }
 ],
 "metadata": {
  "kernelspec": {
   "display_name": "Python 3",
   "language": "python",
   "name": "python3"
  },
  "language_info": {
   "codemirror_mode": {
    "name": "ipython",
    "version": 3
   },
   "file_extension": ".py",
   "mimetype": "text/x-python",
   "name": "python",
   "nbconvert_exporter": "python",
   "pygments_lexer": "ipython3",
   "version": "3.7.3"
  }
 },
 "nbformat": 4,
 "nbformat_minor": 2
}
