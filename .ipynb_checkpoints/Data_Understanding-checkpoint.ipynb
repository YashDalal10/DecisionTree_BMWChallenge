{
 "cells": [
  {
   "cell_type": "code",
   "execution_count": 3,
   "metadata": {},
   "outputs": [],
   "source": [
    "import numpy as np\n",
    "import pandas as pd\n",
    "import matplotlib.pyplot as plt\n",
    "import seaborn as sns"
   ]
  },
  {
   "cell_type": "code",
   "execution_count": 2,
   "metadata": {},
   "outputs": [
    {
     "data": {
      "text/html": [
       "<div>\n",
       "<style scoped>\n",
       "    .dataframe tbody tr th:only-of-type {\n",
       "        vertical-align: middle;\n",
       "    }\n",
       "\n",
       "    .dataframe tbody tr th {\n",
       "        vertical-align: top;\n",
       "    }\n",
       "\n",
       "    .dataframe thead th {\n",
       "        text-align: right;\n",
       "    }\n",
       "</style>\n",
       "<table border=\"1\" class=\"dataframe\">\n",
       "  <thead>\n",
       "    <tr style=\"text-align: right;\">\n",
       "      <th></th>\n",
       "      <th>0</th>\n",
       "      <th>1</th>\n",
       "      <th>2</th>\n",
       "      <th>3</th>\n",
       "      <th>4</th>\n",
       "      <th>5</th>\n",
       "    </tr>\n",
       "  </thead>\n",
       "  <tbody>\n",
       "    <tr>\n",
       "      <th>0</th>\n",
       "      <td>cpu_openvino</td>\n",
       "      <td>1</td>\n",
       "      <td>149.15</td>\n",
       "      <td>6.70</td>\n",
       "      <td>vit_b_16</td>\n",
       "      <td>FP16</td>\n",
       "    </tr>\n",
       "    <tr>\n",
       "      <th>1</th>\n",
       "      <td>gpu_openvino</td>\n",
       "      <td>1</td>\n",
       "      <td>244.94</td>\n",
       "      <td>4.08</td>\n",
       "      <td>vit_b_16</td>\n",
       "      <td>FP16</td>\n",
       "    </tr>\n",
       "    <tr>\n",
       "      <th>2</th>\n",
       "      <td>cpu_openvino</td>\n",
       "      <td>1</td>\n",
       "      <td>77.89</td>\n",
       "      <td>12.84</td>\n",
       "      <td>vgg11</td>\n",
       "      <td>FP16</td>\n",
       "    </tr>\n",
       "    <tr>\n",
       "      <th>3</th>\n",
       "      <td>gpu_openvino</td>\n",
       "      <td>1</td>\n",
       "      <td>17.75</td>\n",
       "      <td>56.34</td>\n",
       "      <td>vgg11</td>\n",
       "      <td>FP16</td>\n",
       "    </tr>\n",
       "    <tr>\n",
       "      <th>4</th>\n",
       "      <td>cpu_openvino</td>\n",
       "      <td>1</td>\n",
       "      <td>37.84</td>\n",
       "      <td>26.43</td>\n",
       "      <td>resnet50</td>\n",
       "      <td>FP16</td>\n",
       "    </tr>\n",
       "    <tr>\n",
       "      <th>5</th>\n",
       "      <td>gpu_openvino</td>\n",
       "      <td>1</td>\n",
       "      <td>18.01</td>\n",
       "      <td>55.54</td>\n",
       "      <td>resnet50</td>\n",
       "      <td>FP16</td>\n",
       "    </tr>\n",
       "    <tr>\n",
       "      <th>6</th>\n",
       "      <td>cpu_openvino</td>\n",
       "      <td>2</td>\n",
       "      <td>367.50</td>\n",
       "      <td>5.44</td>\n",
       "      <td>vit_b_16</td>\n",
       "      <td>FP16</td>\n",
       "    </tr>\n",
       "    <tr>\n",
       "      <th>7</th>\n",
       "      <td>gpu_openvino</td>\n",
       "      <td>2</td>\n",
       "      <td>276.65</td>\n",
       "      <td>7.23</td>\n",
       "      <td>vit_b_16</td>\n",
       "      <td>FP16</td>\n",
       "    </tr>\n",
       "    <tr>\n",
       "      <th>8</th>\n",
       "      <td>cpu_openvino</td>\n",
       "      <td>2</td>\n",
       "      <td>126.58</td>\n",
       "      <td>15.80</td>\n",
       "      <td>vgg11</td>\n",
       "      <td>FP16</td>\n",
       "    </tr>\n",
       "    <tr>\n",
       "      <th>9</th>\n",
       "      <td>gpu_openvino</td>\n",
       "      <td>2</td>\n",
       "      <td>77.60</td>\n",
       "      <td>25.77</td>\n",
       "      <td>vgg11</td>\n",
       "      <td>FP16</td>\n",
       "    </tr>\n",
       "  </tbody>\n",
       "</table>\n",
       "</div>"
      ],
      "text/plain": [
       "              0  1       2      3         4     5\n",
       "0  cpu_openvino  1  149.15   6.70  vit_b_16  FP16\n",
       "1  gpu_openvino  1  244.94   4.08  vit_b_16  FP16\n",
       "2  cpu_openvino  1   77.89  12.84     vgg11  FP16\n",
       "3  gpu_openvino  1   17.75  56.34     vgg11  FP16\n",
       "4  cpu_openvino  1   37.84  26.43  resnet50  FP16\n",
       "5  gpu_openvino  1   18.01  55.54  resnet50  FP16\n",
       "6  cpu_openvino  2  367.50   5.44  vit_b_16  FP16\n",
       "7  gpu_openvino  2  276.65   7.23  vit_b_16  FP16\n",
       "8  cpu_openvino  2  126.58  15.80     vgg11  FP16\n",
       "9  gpu_openvino  2   77.60  25.77     vgg11  FP16"
      ]
     },
     "execution_count": 2,
     "metadata": {},
     "output_type": "execute_result"
    }
   ],
   "source": [
    "data = pd.read_csv('result_0505-180050.csv', header = None, sep = ':')\n",
    "data.head(10)"
   ]
  },
  {
   "cell_type": "code",
   "execution_count": 4,
   "metadata": {},
   "outputs": [
    {
     "data": {
      "text/plain": [
       "vit_b_16    24\n",
       "vgg11       24\n",
       "resnet50    24\n",
       "Name: 4, dtype: int64"
      ]
     },
     "execution_count": 4,
     "metadata": {},
     "output_type": "execute_result"
    }
   ],
   "source": [
    "data[4].value_counts()"
   ]
  },
  {
   "cell_type": "code",
   "execution_count": 5,
   "metadata": {},
   "outputs": [
    {
     "data": {
      "text/plain": [
       "cpu_openvino    36\n",
       "gpu_openvino    36\n",
       "Name: 0, dtype: int64"
      ]
     },
     "execution_count": 5,
     "metadata": {},
     "output_type": "execute_result"
    }
   ],
   "source": [
    "data[0].value_counts()"
   ]
  },
  {
   "cell_type": "code",
   "execution_count": 6,
   "metadata": {},
   "outputs": [],
   "source": [
    "resnet_data = data[data[4] == 'resnet50']"
   ]
  },
  {
   "cell_type": "code",
   "execution_count": 7,
   "metadata": {},
   "outputs": [],
   "source": [
    "precision_data = resnet_data[resnet_data[5] == 'FP16']\n",
    "device_data = precision_data[precision_data[0] == 'gpu_openvino']"
   ]
  },
  {
   "cell_type": "code",
   "execution_count": 30,
   "metadata": {},
   "outputs": [
    {
     "data": {
      "text/plain": [
       "4      1\n",
       "10     2\n",
       "16     4\n",
       "22     6\n",
       "28    10\n",
       "34    20\n",
       "Name: 1, dtype: int64"
      ]
     },
     "execution_count": 30,
     "metadata": {},
     "output_type": "execute_result"
    }
   ],
   "source": [
    "p = precision_data[precision_data[0] == 'cpu_openvino'][1]\n",
    "p.head(10)"
   ]
  },
  {
   "cell_type": "code",
   "execution_count": 8,
   "metadata": {},
   "outputs": [
    {
     "data": {
      "text/html": [
       "<div>\n",
       "<style scoped>\n",
       "    .dataframe tbody tr th:only-of-type {\n",
       "        vertical-align: middle;\n",
       "    }\n",
       "\n",
       "    .dataframe tbody tr th {\n",
       "        vertical-align: top;\n",
       "    }\n",
       "\n",
       "    .dataframe thead th {\n",
       "        text-align: right;\n",
       "    }\n",
       "</style>\n",
       "<table border=\"1\" class=\"dataframe\">\n",
       "  <thead>\n",
       "    <tr style=\"text-align: right;\">\n",
       "      <th></th>\n",
       "      <th>0</th>\n",
       "      <th>1</th>\n",
       "      <th>2</th>\n",
       "      <th>3</th>\n",
       "      <th>4</th>\n",
       "      <th>5</th>\n",
       "    </tr>\n",
       "  </thead>\n",
       "  <tbody>\n",
       "    <tr>\n",
       "      <th>5</th>\n",
       "      <td>gpu_openvino</td>\n",
       "      <td>1</td>\n",
       "      <td>18.01</td>\n",
       "      <td>55.54</td>\n",
       "      <td>resnet50</td>\n",
       "      <td>FP16</td>\n",
       "    </tr>\n",
       "    <tr>\n",
       "      <th>11</th>\n",
       "      <td>gpu_openvino</td>\n",
       "      <td>2</td>\n",
       "      <td>28.85</td>\n",
       "      <td>69.32</td>\n",
       "      <td>resnet50</td>\n",
       "      <td>FP16</td>\n",
       "    </tr>\n",
       "    <tr>\n",
       "      <th>17</th>\n",
       "      <td>gpu_openvino</td>\n",
       "      <td>4</td>\n",
       "      <td>46.11</td>\n",
       "      <td>86.76</td>\n",
       "      <td>resnet50</td>\n",
       "      <td>FP16</td>\n",
       "    </tr>\n",
       "    <tr>\n",
       "      <th>23</th>\n",
       "      <td>gpu_openvino</td>\n",
       "      <td>6</td>\n",
       "      <td>69.35</td>\n",
       "      <td>86.52</td>\n",
       "      <td>resnet50</td>\n",
       "      <td>FP16</td>\n",
       "    </tr>\n",
       "    <tr>\n",
       "      <th>29</th>\n",
       "      <td>gpu_openvino</td>\n",
       "      <td>10</td>\n",
       "      <td>116.81</td>\n",
       "      <td>85.61</td>\n",
       "      <td>resnet50</td>\n",
       "      <td>FP16</td>\n",
       "    </tr>\n",
       "    <tr>\n",
       "      <th>35</th>\n",
       "      <td>gpu_openvino</td>\n",
       "      <td>20</td>\n",
       "      <td>223.77</td>\n",
       "      <td>89.38</td>\n",
       "      <td>resnet50</td>\n",
       "      <td>FP16</td>\n",
       "    </tr>\n",
       "  </tbody>\n",
       "</table>\n",
       "</div>"
      ],
      "text/plain": [
       "               0   1       2      3         4     5\n",
       "5   gpu_openvino   1   18.01  55.54  resnet50  FP16\n",
       "11  gpu_openvino   2   28.85  69.32  resnet50  FP16\n",
       "17  gpu_openvino   4   46.11  86.76  resnet50  FP16\n",
       "23  gpu_openvino   6   69.35  86.52  resnet50  FP16\n",
       "29  gpu_openvino  10  116.81  85.61  resnet50  FP16\n",
       "35  gpu_openvino  20  223.77  89.38  resnet50  FP16"
      ]
     },
     "execution_count": 8,
     "metadata": {},
     "output_type": "execute_result"
    }
   ],
   "source": [
    "device_data.head(10)"
   ]
  },
  {
   "cell_type": "code",
   "execution_count": 33,
   "metadata": {},
   "outputs": [
    {
     "data": {
      "image/png": "[encoded data removed]",
      "text/plain": [
       "<Figure size 576x576 with 1 Axes>"
      ]
     },
     "metadata": {
      "needs_background": "light"
     },
     "output_type": "display_data"
    }
   ],
   "source": [
    "plt.figure(figsize = (8,8))\n",
    "sns.barplot(x = precision_data[precision_data[0] == 'gpu_openvino'][1], y = precision_data[precision_data[0] == 'gpu_openvino'][2])\n",
    "plt.title(\"Batch Size and Latency for GPU\")\n",
    "plt.grid(alpha = 0.25)\n",
    "plt.xlabel(\"Batch Size\")\n",
    "plt.ylabel(\"Latency\")\n",
    "plt.savefig(\"batch_size_latency_gpu.svg\")\n",
    "plt.show()"
   ]
  },
  {
   "cell_type": "code",
   "execution_count": 34,
   "metadata": {},
   "outputs": [
    {
     "data": {
      "image/png": "[encoded data removed]",
      "text/plain": [
       "<Figure size 576x576 with 1 Axes>"
      ]
     },
     "metadata": {
      "needs_background": "light"
     },
     "output_type": "display_data"
    }
   ],
   "source": [
    "plt.figure(figsize = (8,8))\n",
    "sns.barplot(x = precision_data[precision_data[0] == 'cpu_openvino'][1], y = precision_data[precision_data[0] == 'cpu_openvino'][2])\n",
    "plt.title(\"Batch Size and Latency for CPU\")\n",
    "plt.grid(alpha = 0.25)\n",
    "plt.xlabel(\"Batch Size\")\n",
    "plt.ylabel(\"Latency\")\n",
    "plt.savefig(\"batch_size_latency_cpu.svg\")\n",
    "plt.show()"
   ]
  },
  {
   "cell_type": "code",
   "execution_count": 35,
   "metadata": {},
   "outputs": [
    {
     "data": {
      "image/png": "[encoded data removed]",
      "text/plain": [
       "<Figure size 576x576 with 1 Axes>"
      ]
     },
     "metadata": {
      "needs_background": "light"
     },
     "output_type": "display_data"
    }
   ],
   "source": [
    "plt.figure(figsize=(8,8))\n",
    "sns.barplot(x = precision_data[precision_data[0] == 'gpu_openvino'][1], y = precision_data[precision_data[0] == 'gpu_openvino'][3])\n",
    "plt.title(\"Batch Size and Throughput for GPU\")\n",
    "plt.grid(alpha = 0.25)\n",
    "plt.xlabel(\"Batch Size\")\n",
    "plt.ylabel(\"Throughput\")\n",
    "plt.savefig(\"batch_size_throughput_gpu.svg\")\n",
    "plt.show()"
   ]
  },
  {
   "cell_type": "code",
   "execution_count": 36,
   "metadata": {},
   "outputs": [
    {
     "data": {
      "image/png": "[encoded data removed]",
      "text/plain": [
       "<Figure size 576x576 with 1 Axes>"
      ]
     },
     "metadata": {
      "needs_background": "light"
     },
     "output_type": "display_data"
    }
   ],
   "source": [
    "plt.figure(figsize=(8,8))\n",
    "sns.barplot(x = precision_data[precision_data[0] == 'cpu_openvino'][1], y = precision_data[precision_data[0] == 'cpu_openvino'][3])\n",
    "plt.title(\"Batch Size and Throughput for CPU\")\n",
    "plt.grid(alpha = 0.25)\n",
    "plt.xlabel(\"Batch Size\")\n",
    "plt.ylabel(\"Throughput\")\n",
    "plt.savefig(\"batch_size_throughput_cpu.svg\")\n",
    "plt.show()"
   ]
  },
  {
   "cell_type": "code",
   "execution_count": null,
   "metadata": {},
   "outputs": [],
   "source": []
  }
 ],
 "metadata": {
  "kernelspec": {
   "display_name": "Python 3",
   "language": "python",
   "name": "python3"
  },
  "language_info": {
   "codemirror_mode": {
    "name": "ipython",
    "version": 3
   },
   "file_extension": ".py",
   "mimetype": "text/x-python",
   "name": "python",
   "nbconvert_exporter": "python",
   "pygments_lexer": "ipython3",
   "version": "3.7.3"
  }
 },
 "nbformat": 4,
 "nbformat_minor": 2
}
